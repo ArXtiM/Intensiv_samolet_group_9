{
 "cells": [
  {
   "cell_type": "code",
   "execution_count": 20,
   "metadata": {},
   "outputs": [
    {
     "name": "stdout",
     "output_type": "stream",
     "text": [
      "Агрегация завершена. Результат сохранен в файл 'aggregated_mondays.csv'.\n"
     ]
    }
   ],
   "source": [
    "\n",
    "import pandas as pd\n",
    "from datetime import datetime\n",
    "\n",
    "# Загрузка данных из файла\n",
    "data = pd.read_csv('C:\\\\Users\\\\VikA\\\\Desktop\\\\интенсив 3\\\\Показатели рынка металла(utf-8).csv', sep=';', parse_dates=['dt'], dayfirst=True)\n",
    "\n",
    "# Преобразование даты в формат datetime\n",
    "data['dt'] = pd.to_datetime(data['dt'], format='%d.%m.%Y %H:%M')\n",
    "\n",
    "# Фильтрация данных по понедельникам\n",
    "data['is_monday'] = data['dt'].dt.weekday == 0  # Понедельник имеет индекс 0\n",
    "mondays_data = data[data['is_monday']]\n",
    "\n",
    "# Агрегация данных по понедельникам\n",
    "aggregated_data = mondays_data.groupby(pd.Grouper(key='dt', freq='W-MON')).sum()\n",
    "\n",
    "# Сохранение результата в новый файл\n",
    "aggregated_data.to_csv('aggregated_mondays.csv')\n",
    "\n",
    "print(\"Агрегация завершена. Результат сохранен в файл 'aggregated_mondays.csv'.\")"
   ]
  },
  {
   "cell_type": "code",
   "execution_count": 1,
   "metadata": {},
   "outputs": [
    {
     "name": "stdout",
     "output_type": "stream",
     "text": [
      "Данные успешно объединены и сохранены в файл 'merged_data.csv'\n"
     ]
    }
   ],
   "source": [
    "import pandas as pd\n",
    "\n",
    "# Загрузка данных из файлов\n",
    "stocks_df = pd.read_csv('C:\\\\Users\\\\VikA\\\\Desktop\\\\интенсив 3\\\\все акции.csv', sep=';')\n",
    "train_df = pd.read_csv('C:\\\\Users\\\\VikA\\\\Desktop\\\\интенсив 3\\\\train.csv', sep=';')\n",
    "\n",
    "# Преобразование столбца с датой в формат datetime\n",
    "stocks_df['Date'] = pd.to_datetime(stocks_df['Date'], format='%d.%m.%Y %H:%M')\n",
    "train_df['dt'] = pd.to_datetime(train_df['dt'], format='%d.%m.%Y %H:%M')\n",
    "\n",
    "# Объединение данных по дате\n",
    "merged_df = pd.merge(stocks_df, train_df, left_on='Date', right_on='dt', how='inner')\n",
    "\n",
    "# Удаление дублирующего столбца с датой\n",
    "merged_df.drop(columns=['dt'], inplace=True)\n",
    "\n",
    "# Сохранение объединенных данных в новый файл\n",
    "merged_df.to_csv('merged_data.csv', index=False, sep=';')\n",
    "\n",
    "print(\"Данные успешно объединены и сохранены в файл 'merged_data.csv'\")"
   ]
  }
 ],
 "metadata": {
  "kernelspec": {
   "display_name": "Python 3",
   "language": "python",
   "name": "python3"
  },
  "language_info": {
   "codemirror_mode": {
    "name": "ipython",
    "version": 3
   },
   "file_extension": ".py",
   "mimetype": "text/x-python",
   "name": "python",
   "nbconvert_exporter": "python",
   "pygments_lexer": "ipython3",
   "version": "3.12.6"
  }
 },
 "nbformat": 4,
 "nbformat_minor": 2
}
