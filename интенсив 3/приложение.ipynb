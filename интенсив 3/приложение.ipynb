{
 "cells": [
  {
   "cell_type": "code",
   "execution_count": null,
   "metadata": {},
   "outputs": [],
   "source": [
    "import tkinter as tk\n",
    "from PIL import Image, ImageTk\n",
    "\n",
    "# Функция для отображения изображения\n",
    "def show_image():\n",
    "    # Загружаем изображение с помощью PIL\n",
    "    image_path = \"C:\\\\Users\\\\VikA\\\\Desktop\\\\интенсив 3\\\\модель сарима и арима.ipynb\"   # Укажите путь к вашему файлу изображения\n",
    "    try:\n",
    "        image = Image.open(image_path)\n",
    "        # Преобразуем изображение в формат, который может быть использован в Tkinter\n",
    "        tk_image = ImageTk.PhotoImage(image)\n",
    "        # Обновляем виджет Label для отображения изображения\n",
    "        image_label.config(image=tk_image)\n",
    "        image_label.image = tk_image  # Сохраняем ссылку, чтобы изображение не удалялось сборщиком мусора\n",
    "    except Exception as e:\n",
    "        image_label.config(text=f\"Ошибка загрузки изображения: {e}\")\n",
    "\n",
    "# Создаем главное окно приложения\n",
    "root = tk.Tk()\n",
    "root.title(\"Отображение изображения\")\n",
    "\n",
    "# Создаем кнопку \"Изобразить результат\"\n",
    "show_button = tk.Button(root, text=\"Изобразить результат\", command=show_image)\n",
    "show_button.pack(pady=10)\n",
    "\n",
    "# Создаем виджет Label для отображения изображения\n",
    "image_label = tk.Label(root)\n",
    "image_label.pack()\n",
    "\n",
    "# Запускаем главный цикл обработки событий\n",
    "root.mainloop()"
   ]
  }
 ],
 "metadata": {
  "kernelspec": {
   "display_name": "Python 3",
   "language": "python",
   "name": "python3"
  },
  "language_info": {
   "codemirror_mode": {
    "name": "ipython",
    "version": 3
   },
   "file_extension": ".py",
   "mimetype": "text/x-python",
   "name": "python",
   "nbconvert_exporter": "python",
   "pygments_lexer": "ipython3",
   "version": "3.12.6"
  }
 },
 "nbformat": 4,
 "nbformat_minor": 2
}
